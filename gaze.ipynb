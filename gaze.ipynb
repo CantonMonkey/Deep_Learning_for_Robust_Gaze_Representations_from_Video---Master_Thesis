{
 "cells": [
  {
   "cell_type": "code",
   "execution_count": null,
   "metadata": {},
   "outputs": [],
   "source": [
    "## layer 2"
   ]
  },
  {
   "cell_type": "code",
   "execution_count": null,
   "metadata": {},
   "outputs": [
    {
     "ename": "ModuleNotFoundError",
     "evalue": "No module named 'torch'",
     "output_type": "error",
     "traceback": [
      "\u001b[1;31m---------------------------------------------------------------------------\u001b[0m",
      "\u001b[1;31mModuleNotFoundError\u001b[0m                       Traceback (most recent call last)",
      "Cell \u001b[1;32mIn[1], line 1\u001b[0m\n\u001b[1;32m----> 1\u001b[0m \u001b[38;5;28;01mimport\u001b[39;00m \u001b[38;5;21;01mtorch\u001b[39;00m \n\u001b[0;32m      3\u001b[0m \u001b[38;5;28;01mclass\u001b[39;00m \u001b[38;5;21;01mTinyModel\u001b[39;00m(torch\u001b[38;5;241m.\u001b[39mnn\u001b[38;5;241m.\u001b[39mModule):\n\u001b[0;32m      4\u001b[0m     \u001b[38;5;28;01mdef\u001b[39;00m \u001b[38;5;21m__init__\u001b[39m(\u001b[38;5;28mself\u001b[39m):\n",
      "\u001b[1;31mModuleNotFoundError\u001b[0m: No module named 'torch'"
     ]
    }
   ],
   "source": [
    "import torch \n",
    "\n",
    "\n",
    "# input of layer 2\n",
    "Leye = torch.rand(128, 8, 8)\n",
    "print(Leye)\n",
    "\n",
    "Reye = torch.rand(128, 8, 8)\n",
    "print(Reye)\n",
    "\n",
    "FaceData = torch.rand(32, 8, 8)\n",
    "print(FaceData)\n",
    "\n",
    "class TinyModel(torch.nn.Module):\n",
    "    def __init__(self):\n",
    "        super(TinyModel, self).__init__()\n",
    "        # layer 1: feature extraction (to be implemented)\n",
    "        \n",
    "\n",
    "        # layer 2: feature fusion: concate + group  normalization\n",
    "        # self.concate = torch.cat((x, x, x), 0) // not needed here, only in forward\n",
    "        self.gn = torch.nn.GroupNorm(3, 6)     # Separate 6 channels into 3 groups, how to define a appropriate number of groups & channels?\n",
    "\n",
    "        # layer 3:.......................\n",
    "    \n",
    "    def forward(self, x):\n",
    "\n",
    "        # layer2\n",
    "        self.concate = torch.cat((x, x, x), 1)  # dim = 0 or 1?  only channel dim changes?\n",
    "        x = self.gn(x)\n",
    "        return x\n",
    "\n",
    "model = TinyModel()\n",
    "print(model)\n",
    "\n",
    "\n"
   ]
  },
  {
   "cell_type": "code",
   "execution_count": null,
   "metadata": {},
   "outputs": [],
   "source": []
  }
 ],
 "metadata": {
  "kernelspec": {
   "display_name": "Python (signlang)",
   "language": "python",
   "name": "signlang"
  },
  "language_info": {
   "codemirror_mode": {
    "name": "ipython",
    "version": 3
   },
   "file_extension": ".py",
   "mimetype": "text/x-python",
   "name": "python",
   "nbconvert_exporter": "python",
   "pygments_lexer": "ipython3",
   "version": "3.9.18"
  }
 },
 "nbformat": 4,
 "nbformat_minor": 2
}
